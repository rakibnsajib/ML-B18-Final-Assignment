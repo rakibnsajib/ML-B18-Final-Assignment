{
 "cells": [
  {
   "cell_type": "markdown",
   "metadata": {},
   "source": [
    "## 1. Importing Libraries and Dataset Overview:"
   ]
  },
  {
   "cell_type": "code",
   "execution_count": 1,
   "metadata": {},
   "outputs": [],
   "source": [
    "import numpy as np\n",
    "import matplotlib.pyplot as plt\n",
    "import pandas as pd\n",
    "import seaborn as sns\n",
    "from scipy import stats\n",
    "from sklearn.model_selection import train_test_split\n",
    "from sklearn.preprocessing import StandardScaler\n",
    "from sklearn.linear_model import LinearRegression\n",
    "from sklearn.ensemble import RandomForestRegressor, GradientBoostingRegressor\n",
    "from sklearn.metrics import mean_absolute_error, mean_squared_error, r2_score\n",
    "import warnings\n",
    "warnings.filterwarnings('ignore')"
   ]
  },
  {
   "cell_type": "code",
   "execution_count": 2,
   "metadata": {},
   "outputs": [],
   "source": [
    "df = pd.read_csv('concrete.csv')"
   ]
  },
  {
   "cell_type": "code",
   "execution_count": 3,
   "metadata": {},
   "outputs": [
    {
     "data": {
      "text/html": [
       "<div>\n",
       "<style scoped>\n",
       "    .dataframe tbody tr th:only-of-type {\n",
       "        vertical-align: middle;\n",
       "    }\n",
       "\n",
       "    .dataframe tbody tr th {\n",
       "        vertical-align: top;\n",
       "    }\n",
       "\n",
       "    .dataframe thead th {\n",
       "        text-align: right;\n",
       "    }\n",
       "</style>\n",
       "<table border=\"1\" class=\"dataframe\">\n",
       "  <thead>\n",
       "    <tr style=\"text-align: right;\">\n",
       "      <th></th>\n",
       "      <th>Cement (component 1)(kg in a m^3 mixture)</th>\n",
       "      <th>Blast Furnace Slag (component 2)(kg in a m^3 mixture)</th>\n",
       "      <th>Fly Ash (component 3)(kg in a m^3 mixture)</th>\n",
       "      <th>Water  (component 4)(kg in a m^3 mixture)</th>\n",
       "      <th>Superplasticizer (component 5)(kg in a m^3 mixture)</th>\n",
       "      <th>Coarse Aggregate  (component 6)(kg in a m^3 mixture)</th>\n",
       "      <th>Fine Aggregate (component 7)(kg in a m^3 mixture)</th>\n",
       "      <th>Age (day)</th>\n",
       "      <th>strength</th>\n",
       "    </tr>\n",
       "  </thead>\n",
       "  <tbody>\n",
       "    <tr>\n",
       "      <th>0</th>\n",
       "      <td>540.0</td>\n",
       "      <td>0.0</td>\n",
       "      <td>0.0</td>\n",
       "      <td>162.0</td>\n",
       "      <td>2.5</td>\n",
       "      <td>1040.0</td>\n",
       "      <td>676.0</td>\n",
       "      <td>28</td>\n",
       "      <td>79.99</td>\n",
       "    </tr>\n",
       "    <tr>\n",
       "      <th>1</th>\n",
       "      <td>540.0</td>\n",
       "      <td>0.0</td>\n",
       "      <td>0.0</td>\n",
       "      <td>162.0</td>\n",
       "      <td>2.5</td>\n",
       "      <td>1055.0</td>\n",
       "      <td>676.0</td>\n",
       "      <td>28</td>\n",
       "      <td>61.89</td>\n",
       "    </tr>\n",
       "    <tr>\n",
       "      <th>2</th>\n",
       "      <td>332.5</td>\n",
       "      <td>142.5</td>\n",
       "      <td>0.0</td>\n",
       "      <td>228.0</td>\n",
       "      <td>0.0</td>\n",
       "      <td>932.0</td>\n",
       "      <td>594.0</td>\n",
       "      <td>270</td>\n",
       "      <td>40.27</td>\n",
       "    </tr>\n",
       "    <tr>\n",
       "      <th>3</th>\n",
       "      <td>332.5</td>\n",
       "      <td>142.5</td>\n",
       "      <td>0.0</td>\n",
       "      <td>228.0</td>\n",
       "      <td>0.0</td>\n",
       "      <td>932.0</td>\n",
       "      <td>594.0</td>\n",
       "      <td>365</td>\n",
       "      <td>41.05</td>\n",
       "    </tr>\n",
       "    <tr>\n",
       "      <th>4</th>\n",
       "      <td>198.6</td>\n",
       "      <td>132.4</td>\n",
       "      <td>0.0</td>\n",
       "      <td>192.0</td>\n",
       "      <td>0.0</td>\n",
       "      <td>978.4</td>\n",
       "      <td>825.5</td>\n",
       "      <td>360</td>\n",
       "      <td>44.30</td>\n",
       "    </tr>\n",
       "  </tbody>\n",
       "</table>\n",
       "</div>"
      ],
      "text/plain": [
       "   Cement (component 1)(kg in a m^3 mixture)  \\\n",
       "0                                      540.0   \n",
       "1                                      540.0   \n",
       "2                                      332.5   \n",
       "3                                      332.5   \n",
       "4                                      198.6   \n",
       "\n",
       "   Blast Furnace Slag (component 2)(kg in a m^3 mixture)  \\\n",
       "0                                                0.0       \n",
       "1                                                0.0       \n",
       "2                                              142.5       \n",
       "3                                              142.5       \n",
       "4                                              132.4       \n",
       "\n",
       "   Fly Ash (component 3)(kg in a m^3 mixture)  \\\n",
       "0                                         0.0   \n",
       "1                                         0.0   \n",
       "2                                         0.0   \n",
       "3                                         0.0   \n",
       "4                                         0.0   \n",
       "\n",
       "   Water  (component 4)(kg in a m^3 mixture)  \\\n",
       "0                                      162.0   \n",
       "1                                      162.0   \n",
       "2                                      228.0   \n",
       "3                                      228.0   \n",
       "4                                      192.0   \n",
       "\n",
       "   Superplasticizer (component 5)(kg in a m^3 mixture)  \\\n",
       "0                                                2.5     \n",
       "1                                                2.5     \n",
       "2                                                0.0     \n",
       "3                                                0.0     \n",
       "4                                                0.0     \n",
       "\n",
       "   Coarse Aggregate  (component 6)(kg in a m^3 mixture)  \\\n",
       "0                                             1040.0      \n",
       "1                                             1055.0      \n",
       "2                                              932.0      \n",
       "3                                              932.0      \n",
       "4                                              978.4      \n",
       "\n",
       "   Fine Aggregate (component 7)(kg in a m^3 mixture)  Age (day)  strength  \n",
       "0                                              676.0         28     79.99  \n",
       "1                                              676.0         28     61.89  \n",
       "2                                              594.0        270     40.27  \n",
       "3                                              594.0        365     41.05  \n",
       "4                                              825.5        360     44.30  "
      ]
     },
     "execution_count": 3,
     "metadata": {},
     "output_type": "execute_result"
    }
   ],
   "source": [
    "df.head()"
   ]
  },
  {
   "cell_type": "code",
   "execution_count": 4,
   "metadata": {},
   "outputs": [],
   "source": [
    "df.rename(columns={\n",
    "    'Cement (component 1)(kg in a m^3 mixture)': 'cement',\n",
    "    'Blast Furnace Slag (component 2)(kg in a m^3 mixture)': 'blast_furnace_slag',\n",
    "    'Fly Ash (component 3)(kg in a m^3 mixture)': 'fly_ash',\n",
    "    'Water  (component 4)(kg in a m^3 mixture)': 'water',\n",
    "    'Superplasticizer (component 5)(kg in a m^3 mixture)': 'superplasticizer',\n",
    "    'Coarse Aggregate  (component 6)(kg in a m^3 mixture)': 'coarse_aggregate',\n",
    "    'Fine Aggregate (component 7)(kg in a m^3 mixture)': 'fine_aggregate',\n",
    "    'Age (day)': 'age',\n",
    "    'strength': 'strength'\n",
    "}, inplace=True)\n"
   ]
  },
  {
   "cell_type": "code",
   "execution_count": 5,
   "metadata": {},
   "outputs": [
    {
     "data": {
      "text/html": [
       "<div>\n",
       "<style scoped>\n",
       "    .dataframe tbody tr th:only-of-type {\n",
       "        vertical-align: middle;\n",
       "    }\n",
       "\n",
       "    .dataframe tbody tr th {\n",
       "        vertical-align: top;\n",
       "    }\n",
       "\n",
       "    .dataframe thead th {\n",
       "        text-align: right;\n",
       "    }\n",
       "</style>\n",
       "<table border=\"1\" class=\"dataframe\">\n",
       "  <thead>\n",
       "    <tr style=\"text-align: right;\">\n",
       "      <th></th>\n",
       "      <th>cement</th>\n",
       "      <th>blast_furnace_slag</th>\n",
       "      <th>fly_ash</th>\n",
       "      <th>water</th>\n",
       "      <th>superplasticizer</th>\n",
       "      <th>coarse_aggregate</th>\n",
       "      <th>fine_aggregate</th>\n",
       "      <th>age</th>\n",
       "      <th>strength</th>\n",
       "    </tr>\n",
       "  </thead>\n",
       "  <tbody>\n",
       "    <tr>\n",
       "      <th>0</th>\n",
       "      <td>540.0</td>\n",
       "      <td>0.0</td>\n",
       "      <td>0.0</td>\n",
       "      <td>162.0</td>\n",
       "      <td>2.5</td>\n",
       "      <td>1040.0</td>\n",
       "      <td>676.0</td>\n",
       "      <td>28</td>\n",
       "      <td>79.99</td>\n",
       "    </tr>\n",
       "    <tr>\n",
       "      <th>1</th>\n",
       "      <td>540.0</td>\n",
       "      <td>0.0</td>\n",
       "      <td>0.0</td>\n",
       "      <td>162.0</td>\n",
       "      <td>2.5</td>\n",
       "      <td>1055.0</td>\n",
       "      <td>676.0</td>\n",
       "      <td>28</td>\n",
       "      <td>61.89</td>\n",
       "    </tr>\n",
       "    <tr>\n",
       "      <th>2</th>\n",
       "      <td>332.5</td>\n",
       "      <td>142.5</td>\n",
       "      <td>0.0</td>\n",
       "      <td>228.0</td>\n",
       "      <td>0.0</td>\n",
       "      <td>932.0</td>\n",
       "      <td>594.0</td>\n",
       "      <td>270</td>\n",
       "      <td>40.27</td>\n",
       "    </tr>\n",
       "    <tr>\n",
       "      <th>3</th>\n",
       "      <td>332.5</td>\n",
       "      <td>142.5</td>\n",
       "      <td>0.0</td>\n",
       "      <td>228.0</td>\n",
       "      <td>0.0</td>\n",
       "      <td>932.0</td>\n",
       "      <td>594.0</td>\n",
       "      <td>365</td>\n",
       "      <td>41.05</td>\n",
       "    </tr>\n",
       "    <tr>\n",
       "      <th>4</th>\n",
       "      <td>198.6</td>\n",
       "      <td>132.4</td>\n",
       "      <td>0.0</td>\n",
       "      <td>192.0</td>\n",
       "      <td>0.0</td>\n",
       "      <td>978.4</td>\n",
       "      <td>825.5</td>\n",
       "      <td>360</td>\n",
       "      <td>44.30</td>\n",
       "    </tr>\n",
       "  </tbody>\n",
       "</table>\n",
       "</div>"
      ],
      "text/plain": [
       "   cement  blast_furnace_slag  fly_ash  water  superplasticizer  \\\n",
       "0   540.0                 0.0      0.0  162.0               2.5   \n",
       "1   540.0                 0.0      0.0  162.0               2.5   \n",
       "2   332.5               142.5      0.0  228.0               0.0   \n",
       "3   332.5               142.5      0.0  228.0               0.0   \n",
       "4   198.6               132.4      0.0  192.0               0.0   \n",
       "\n",
       "   coarse_aggregate  fine_aggregate  age  strength  \n",
       "0            1040.0           676.0   28     79.99  \n",
       "1            1055.0           676.0   28     61.89  \n",
       "2             932.0           594.0  270     40.27  \n",
       "3             932.0           594.0  365     41.05  \n",
       "4             978.4           825.5  360     44.30  "
      ]
     },
     "execution_count": 5,
     "metadata": {},
     "output_type": "execute_result"
    }
   ],
   "source": [
    "df.head()"
   ]
  },
  {
   "cell_type": "markdown",
   "metadata": {},
   "source": [
    "## 2. Data Preprocessing:\n",
    "- Handle missing values, outliers, and any data anomalies.\n",
    "- Explore the distribution of the target variable and features.\n",
    "- Standardize or normalize numerical features if necessary."
   ]
  },
  {
   "cell_type": "code",
   "execution_count": 6,
   "metadata": {},
   "outputs": [
    {
     "data": {
      "text/plain": [
       "cement                0\n",
       "blast_furnace_slag    0\n",
       "fly_ash               0\n",
       "water                 0\n",
       "superplasticizer      0\n",
       "coarse_aggregate      0\n",
       "fine_aggregate        0\n",
       "age                   0\n",
       "strength              0\n",
       "dtype: int64"
      ]
     },
     "execution_count": 6,
     "metadata": {},
     "output_type": "execute_result"
    }
   ],
   "source": [
    "df.isnull().sum()"
   ]
  },
  {
   "cell_type": "code",
   "execution_count": 7,
   "metadata": {},
   "outputs": [
    {
     "data": {
      "text/plain": [
       "(1030, 9)"
      ]
     },
     "execution_count": 7,
     "metadata": {},
     "output_type": "execute_result"
    }
   ],
   "source": [
    "df.shape"
   ]
  },
  {
   "cell_type": "code",
   "execution_count": 8,
   "metadata": {},
   "outputs": [
    {
     "name": "stdout",
     "output_type": "stream",
     "text": [
      "Outliers for cement: []\n",
      "Outliers for blast_furnace_slag: [553 559 571 584]\n",
      "Outliers for fly_ash: []\n",
      "Outliers for water: [869 932]\n",
      "Outliers for superplasticizer: [ 76  79  99 102 122 125 145 148 168 171]\n",
      "Outliers for coarse_aggregate: []\n",
      "Outliers for fine_aggregate: []\n",
      "Outliers for age: [  2   3   4   6  12  17  24  25  26  30  31  33  34  35  41  42  56  60\n",
      "  61  63  65  66 590 596 602 606 608 742 755 778 784 800 806]\n",
      "Outliers for strength: []\n",
      "Shape of df after removing outliers: (981, 9)\n"
     ]
    }
   ],
   "source": [
    "# Define a threshold for outlier detection\n",
    "threshold = 3\n",
    "\n",
    "# Detect outliers using z-score for each column in X\n",
    "for column_name in df.columns:\n",
    "    z_scores = np.abs(stats.zscore(df[column_name]))\n",
    "    outliers = np.where(z_scores > threshold)[0]\n",
    "    print(f'Outliers for {column_name}: {outliers}')\n",
    "    \n",
    "    # Remove outliers from df\n",
    "    df = df[(z_scores < threshold)]\n",
    "\n",
    "# Check the shape of df after removing outliers\n",
    "print(\"Shape of df after removing outliers:\", df.shape)\n"
   ]
  },
  {
   "cell_type": "code",
   "execution_count": 13,
   "metadata": {},
   "outputs": [
    {
     "data": {
      "text/plain": [
       "(981, 9)"
      ]
     },
     "execution_count": 13,
     "metadata": {},
     "output_type": "execute_result"
    }
   ],
   "source": [
    "df.shape"
   ]
  },
  {
   "cell_type": "code",
   "execution_count": 9,
   "metadata": {},
   "outputs": [],
   "source": [
    "X = df.drop(columns=['strength'])\n",
    "y = df[['strength']]"
   ]
  },
  {
   "cell_type": "code",
   "execution_count": 10,
   "metadata": {},
   "outputs": [
    {
     "data": {
      "text/html": [
       "<div>\n",
       "<style scoped>\n",
       "    .dataframe tbody tr th:only-of-type {\n",
       "        vertical-align: middle;\n",
       "    }\n",
       "\n",
       "    .dataframe tbody tr th {\n",
       "        vertical-align: top;\n",
       "    }\n",
       "\n",
       "    .dataframe thead th {\n",
       "        text-align: right;\n",
       "    }\n",
       "</style>\n",
       "<table border=\"1\" class=\"dataframe\">\n",
       "  <thead>\n",
       "    <tr style=\"text-align: right;\">\n",
       "      <th></th>\n",
       "      <th>cement</th>\n",
       "      <th>blast_furnace_slag</th>\n",
       "      <th>fly_ash</th>\n",
       "      <th>water</th>\n",
       "      <th>superplasticizer</th>\n",
       "      <th>coarse_aggregate</th>\n",
       "      <th>fine_aggregate</th>\n",
       "      <th>age</th>\n",
       "    </tr>\n",
       "  </thead>\n",
       "  <tbody>\n",
       "    <tr>\n",
       "      <th>0</th>\n",
       "      <td>540.0</td>\n",
       "      <td>0.0</td>\n",
       "      <td>0.0</td>\n",
       "      <td>162.0</td>\n",
       "      <td>2.5</td>\n",
       "      <td>1040.0</td>\n",
       "      <td>676.0</td>\n",
       "      <td>28</td>\n",
       "    </tr>\n",
       "    <tr>\n",
       "      <th>1</th>\n",
       "      <td>540.0</td>\n",
       "      <td>0.0</td>\n",
       "      <td>0.0</td>\n",
       "      <td>162.0</td>\n",
       "      <td>2.5</td>\n",
       "      <td>1055.0</td>\n",
       "      <td>676.0</td>\n",
       "      <td>28</td>\n",
       "    </tr>\n",
       "    <tr>\n",
       "      <th>5</th>\n",
       "      <td>266.0</td>\n",
       "      <td>114.0</td>\n",
       "      <td>0.0</td>\n",
       "      <td>228.0</td>\n",
       "      <td>0.0</td>\n",
       "      <td>932.0</td>\n",
       "      <td>670.0</td>\n",
       "      <td>90</td>\n",
       "    </tr>\n",
       "    <tr>\n",
       "      <th>7</th>\n",
       "      <td>380.0</td>\n",
       "      <td>95.0</td>\n",
       "      <td>0.0</td>\n",
       "      <td>228.0</td>\n",
       "      <td>0.0</td>\n",
       "      <td>932.0</td>\n",
       "      <td>594.0</td>\n",
       "      <td>28</td>\n",
       "    </tr>\n",
       "    <tr>\n",
       "      <th>8</th>\n",
       "      <td>266.0</td>\n",
       "      <td>114.0</td>\n",
       "      <td>0.0</td>\n",
       "      <td>228.0</td>\n",
       "      <td>0.0</td>\n",
       "      <td>932.0</td>\n",
       "      <td>670.0</td>\n",
       "      <td>28</td>\n",
       "    </tr>\n",
       "  </tbody>\n",
       "</table>\n",
       "</div>"
      ],
      "text/plain": [
       "   cement  blast_furnace_slag  fly_ash  water  superplasticizer  \\\n",
       "0   540.0                 0.0      0.0  162.0               2.5   \n",
       "1   540.0                 0.0      0.0  162.0               2.5   \n",
       "5   266.0               114.0      0.0  228.0               0.0   \n",
       "7   380.0                95.0      0.0  228.0               0.0   \n",
       "8   266.0               114.0      0.0  228.0               0.0   \n",
       "\n",
       "   coarse_aggregate  fine_aggregate  age  \n",
       "0            1040.0           676.0   28  \n",
       "1            1055.0           676.0   28  \n",
       "5             932.0           670.0   90  \n",
       "7             932.0           594.0   28  \n",
       "8             932.0           670.0   28  "
      ]
     },
     "execution_count": 10,
     "metadata": {},
     "output_type": "execute_result"
    }
   ],
   "source": [
    "X.head()"
   ]
  },
  {
   "cell_type": "code",
   "execution_count": 11,
   "metadata": {},
   "outputs": [
    {
     "data": {
      "text/html": [
       "<div>\n",
       "<style scoped>\n",
       "    .dataframe tbody tr th:only-of-type {\n",
       "        vertical-align: middle;\n",
       "    }\n",
       "\n",
       "    .dataframe tbody tr th {\n",
       "        vertical-align: top;\n",
       "    }\n",
       "\n",
       "    .dataframe thead th {\n",
       "        text-align: right;\n",
       "    }\n",
       "</style>\n",
       "<table border=\"1\" class=\"dataframe\">\n",
       "  <thead>\n",
       "    <tr style=\"text-align: right;\">\n",
       "      <th></th>\n",
       "      <th>strength</th>\n",
       "    </tr>\n",
       "  </thead>\n",
       "  <tbody>\n",
       "    <tr>\n",
       "      <th>0</th>\n",
       "      <td>79.99</td>\n",
       "    </tr>\n",
       "    <tr>\n",
       "      <th>1</th>\n",
       "      <td>61.89</td>\n",
       "    </tr>\n",
       "    <tr>\n",
       "      <th>5</th>\n",
       "      <td>47.03</td>\n",
       "    </tr>\n",
       "    <tr>\n",
       "      <th>7</th>\n",
       "      <td>36.45</td>\n",
       "    </tr>\n",
       "    <tr>\n",
       "      <th>8</th>\n",
       "      <td>45.85</td>\n",
       "    </tr>\n",
       "  </tbody>\n",
       "</table>\n",
       "</div>"
      ],
      "text/plain": [
       "   strength\n",
       "0     79.99\n",
       "1     61.89\n",
       "5     47.03\n",
       "7     36.45\n",
       "8     45.85"
      ]
     },
     "execution_count": 11,
     "metadata": {},
     "output_type": "execute_result"
    }
   ],
   "source": [
    "y.head()"
   ]
  },
  {
   "cell_type": "code",
   "execution_count": 12,
   "metadata": {},
   "outputs": [
    {
     "data": {
      "image/png": "[encoded data removed]",
      "text/plain": [
       "<Figure size 640x480 with 1 Axes>"
      ]
     },
     "metadata": {},
     "output_type": "display_data"
    }
   ],
   "source": [
    "sns.histplot(df['strength'], kde=True)\n",
    "plt.title('Distribution of Concrete Strength')\n",
    "plt.xlabel('Strength')\n",
    "plt.ylabel('Frequency')\n",
    "plt.show()"
   ]
  },
  {
   "cell_type": "code",
   "execution_count": 14,
   "metadata": {},
   "outputs": [],
   "source": [
    "# Standardize numerical features\n",
    "scaler = StandardScaler()\n",
    "numerical_features = X.columns\n",
    "X[numerical_features] = scaler.fit_transform(X[numerical_features])"
   ]
  },
  {
   "cell_type": "code",
   "execution_count": 15,
   "metadata": {},
   "outputs": [
    {
     "data": {
      "text/html": [
       "<div>\n",
       "<style scoped>\n",
       "    .dataframe tbody tr th:only-of-type {\n",
       "        vertical-align: middle;\n",
       "    }\n",
       "\n",
       "    .dataframe tbody tr th {\n",
       "        vertical-align: top;\n",
       "    }\n",
       "\n",
       "    .dataframe thead th {\n",
       "        text-align: right;\n",
       "    }\n",
       "</style>\n",
       "<table border=\"1\" class=\"dataframe\">\n",
       "  <thead>\n",
       "    <tr style=\"text-align: right;\">\n",
       "      <th></th>\n",
       "      <th>cement</th>\n",
       "      <th>blast_furnace_slag</th>\n",
       "      <th>fly_ash</th>\n",
       "      <th>water</th>\n",
       "      <th>superplasticizer</th>\n",
       "      <th>coarse_aggregate</th>\n",
       "      <th>fine_aggregate</th>\n",
       "      <th>age</th>\n",
       "    </tr>\n",
       "  </thead>\n",
       "  <tbody>\n",
       "    <tr>\n",
       "      <th>0</th>\n",
       "      <td>2.560014</td>\n",
       "      <td>-0.858514</td>\n",
       "      <td>-0.88112</td>\n",
       "      <td>-0.931973</td>\n",
       "      <td>-0.673726</td>\n",
       "      <td>0.839761</td>\n",
       "      <td>-1.288508</td>\n",
       "      <td>-0.229254</td>\n",
       "    </tr>\n",
       "    <tr>\n",
       "      <th>1</th>\n",
       "      <td>2.560014</td>\n",
       "      <td>-0.858514</td>\n",
       "      <td>-0.88112</td>\n",
       "      <td>-0.931973</td>\n",
       "      <td>-0.673726</td>\n",
       "      <td>1.032749</td>\n",
       "      <td>-1.288508</td>\n",
       "      <td>-0.229254</td>\n",
       "    </tr>\n",
       "    <tr>\n",
       "      <th>5</th>\n",
       "      <td>-0.112045</td>\n",
       "      <td>0.480231</td>\n",
       "      <td>-0.88112</td>\n",
       "      <td>2.346817</td>\n",
       "      <td>-1.129625</td>\n",
       "      <td>-0.549747</td>\n",
       "      <td>-1.365815</td>\n",
       "      <td>1.453139</td>\n",
       "    </tr>\n",
       "    <tr>\n",
       "      <th>7</th>\n",
       "      <td>0.999687</td>\n",
       "      <td>0.257107</td>\n",
       "      <td>-0.88112</td>\n",
       "      <td>2.346817</td>\n",
       "      <td>-1.129625</td>\n",
       "      <td>-0.549747</td>\n",
       "      <td>-2.345042</td>\n",
       "      <td>-0.229254</td>\n",
       "    </tr>\n",
       "    <tr>\n",
       "      <th>8</th>\n",
       "      <td>-0.112045</td>\n",
       "      <td>0.480231</td>\n",
       "      <td>-0.88112</td>\n",
       "      <td>2.346817</td>\n",
       "      <td>-1.129625</td>\n",
       "      <td>-0.549747</td>\n",
       "      <td>-1.365815</td>\n",
       "      <td>-0.229254</td>\n",
       "    </tr>\n",
       "  </tbody>\n",
       "</table>\n",
       "</div>"
      ],
      "text/plain": [
       "     cement  blast_furnace_slag  fly_ash     water  superplasticizer  \\\n",
       "0  2.560014           -0.858514 -0.88112 -0.931973         -0.673726   \n",
       "1  2.560014           -0.858514 -0.88112 -0.931973         -0.673726   \n",
       "5 -0.112045            0.480231 -0.88112  2.346817         -1.129625   \n",
       "7  0.999687            0.257107 -0.88112  2.346817         -1.129625   \n",
       "8 -0.112045            0.480231 -0.88112  2.346817         -1.129625   \n",
       "\n",
       "   coarse_aggregate  fine_aggregate       age  \n",
       "0          0.839761       -1.288508 -0.229254  \n",
       "1          1.032749       -1.288508 -0.229254  \n",
       "5         -0.549747       -1.365815  1.453139  \n",
       "7         -0.549747       -2.345042 -0.229254  \n",
       "8         -0.549747       -1.365815 -0.229254  "
      ]
     },
     "execution_count": 15,
     "metadata": {},
     "output_type": "execute_result"
    }
   ],
   "source": [
    "X.head()"
   ]
  },
  {
   "cell_type": "markdown",
   "metadata": {},
   "source": [
    "## 3. Model Selection:\n",
    "Choose at least three regression models for concrete strength prediction.\n",
    "Suggested models include:\n",
    "- Linear Regression\n",
    "- Random Forest Regressor\n",
    "- Gradient Boosting Regressor (e.g., XGBoost)"
   ]
  },
  {
   "cell_type": "code",
   "execution_count": 19,
   "metadata": {},
   "outputs": [],
   "source": [
    "# Initialize regression models\n",
    "models = {\n",
    "    'Linear Regression': LinearRegression(),\n",
    "    'Random Forest Regressor': RandomForestRegressor(random_state=42),\n",
    "    'Gradient Boosting Regressor': GradientBoostingRegressor(random_state=42)\n",
    "}"
   ]
  },
  {
   "cell_type": "markdown",
   "metadata": {},
   "source": [
    "## 4. Model Training:\n",
    "- Split the dataset into training and testing sets.\n",
    "- Train each selected model on the training dataset."
   ]
  },
  {
   "cell_type": "code",
   "execution_count": 16,
   "metadata": {},
   "outputs": [],
   "source": [
    "X_train, X_test, y_train, y_test = train_test_split(X, y, test_size=0.2, random_state=42)"
   ]
  },
  {
   "cell_type": "code",
   "execution_count": 20,
   "metadata": {},
   "outputs": [],
   "source": [
    "# Train each selected model on the training dataset\n",
    "for name, model in models.items():\n",
    "    model.fit(X_train, y_train)"
   ]
  },
  {
   "cell_type": "markdown",
   "metadata": {},
   "source": [
    "## 5. Evaluation Metrics\n",
    "Evaluate the performance of each model on the testing set using regression\n",
    "metrics:\n",
    "- Mean Absolute Error (MAE)\n",
    "- Mean Squared Error (MSE)\n",
    "- Root Mean Squared Error (RMSE)\n",
    "- R-squared (R2) score"
   ]
  },
  {
   "cell_type": "code",
   "execution_count": 21,
   "metadata": {},
   "outputs": [
    {
     "name": "stdout",
     "output_type": "stream",
     "text": [
      "Linear Regression:\n",
      "Mean Absolute Error: 7.384207195613036\n",
      "Mean Squared Error: 91.49071327033214\n",
      "Root Mean Squared Error: 9.565077797400924\n",
      "R-squared Score: 0.6531581661044157\n",
      "---\n",
      "Random Forest Regressor:\n",
      "Mean Absolute Error: 3.88443126782693\n",
      "Mean Squared Error: 34.429772336101664\n",
      "Root Mean Squared Error: 5.867688841111265\n",
      "R-squared Score: 0.8694765299033546\n",
      "---\n",
      "Gradient Boosting Regressor:\n",
      "Mean Absolute Error: 4.019283229084421\n",
      "Mean Squared Error: 35.168908765223094\n",
      "Root Mean Squared Error: 5.930337997553183\n",
      "R-squared Score: 0.8666744593389026\n",
      "---\n"
     ]
    }
   ],
   "source": [
    "for name, model in models.items():\n",
    "    y_pred = model.predict(X_test)\n",
    "    mae = mean_absolute_error(y_test, y_pred)\n",
    "    mse = mean_squared_error(y_test, y_pred)\n",
    "    rmse = np.sqrt(mse)\n",
    "    r2 = r2_score(y_test, y_pred)\n",
    "    \n",
    "    print(f'{name}:')\n",
    "    print(f'Mean Absolute Error: {mae}')\n",
    "    print(f'Mean Squared Error: {mse}')\n",
    "    print(f'Root Mean Squared Error: {rmse}')\n",
    "    print(f'R-squared Score: {r2}')\n",
    "    print('---')\n"
   ]
  },
  {
   "cell_type": "markdown",
   "metadata": {},
   "source": [
    "## 6. Feature Importance (e.g., for Random Forest or Gradient Boosting models)"
   ]
  },
  {
   "cell_type": "code",
   "execution_count": 22,
   "metadata": {},
   "outputs": [
    {
     "data": {
      "image/png": "[encoded data removed]",
      "text/plain": [
       "<Figure size 1000x600 with 1 Axes>"
      ]
     },
     "metadata": {},
     "output_type": "display_data"
    },
    {
     "data": {
      "image/png": "[encoded data removed]",
      "text/plain": [
       "<Figure size 1000x600 with 1 Axes>"
      ]
     },
     "metadata": {},
     "output_type": "display_data"
    }
   ],
   "source": [
    "for name, model in models.items():\n",
    "    if hasattr(model, 'feature_importances_'):\n",
    "        feature_importance = pd.DataFrame({'Feature': X_train.columns, 'Importance': model.feature_importances_})\n",
    "        feature_importance = feature_importance.sort_values(by='Importance', ascending=False)\n",
    "        plt.figure(figsize=(10,6))\n",
    "        sns.barplot(x='Importance', y='Feature', data=feature_importance)\n",
    "        plt.title(f\"Feature Importance of {name}\")\n",
    "        plt.xlabel('Importance')\n",
    "        plt.ylabel('Feature')\n",
    "        plt.show()\n",
    "\n"
   ]
  },
  {
   "cell_type": "markdown",
   "metadata": {},
   "source": [
    "## 7. Hyperparameter Tuning with Grid Search\n",
    "Grid Search is a technique used to tune hyperparameters by searching through a predefined grid of hyperparameter values and selecting the combination that yields the best performance."
   ]
  },
  {
   "cell_type": "code",
   "execution_count": 26,
   "metadata": {},
   "outputs": [
    {
     "name": "stdout",
     "output_type": "stream",
     "text": [
      "Best parameters: {'max_depth': 20, 'min_samples_split': 2, 'n_estimators': 150}\n",
      "Best estimator: RandomForestRegressor(max_depth=20, n_estimators=150)\n"
     ]
    }
   ],
   "source": [
    "from sklearn.model_selection import GridSearchCV\n",
    "\n",
    "# Define the hyperparameter grid for Random Forest Regressor\n",
    "param_grid = {\n",
    "    'n_estimators': [50, 100, 150],\n",
    "    'max_depth': [None, 10, 20],\n",
    "    'min_samples_split': [2, 5, 10]\n",
    "}\n",
    "\n",
    "# Instantiate the GridSearchCV object with Random Forest Regressor and the hyperparameter grid\n",
    "grid_search = GridSearchCV(RandomForestRegressor(), param_grid, cv=5, scoring='neg_mean_squared_error')\n",
    "\n",
    "# Fit the grid search to the training data\n",
    "grid_search.fit(X_train, y_train)\n",
    "\n",
    "# Print the best hyperparameters and the best estimator\n",
    "print(\"Best parameters:\", grid_search.best_params_)\n",
    "print(\"Best estimator:\", grid_search.best_estimator_)\n"
   ]
  },
  {
   "cell_type": "markdown",
   "metadata": {},
   "source": [
    "### Chosen Hyperparameters and Reasoning:\n",
    "\n",
    "1. **n_estimators:**\n",
    "   - This hyperparameter determines the number of trees in the forest.\n",
    "   - We selected [50, 100, 150] as potential values to explore a range of tree numbers.\n",
    "   - More trees can lead to better performance, but it also increases computational cost. We aim to find a balance.\n",
    "\n",
    "2. **max_depth:**\n",
    "   - This hyperparameter controls the maximum depth of each tree in the forest.\n",
    "   - We included [None, 10, 20] to explore shallow to deep trees.\n",
    "   - Deeper trees can capture more complex patterns but may lead to overfitting. We want to find the optimal depth.\n",
    "\n",
    "3. **min_samples_split:**\n",
    "   - This hyperparameter sets the minimum number of samples required to split an internal node.\n",
    "   - We chose [2, 5, 10] to explore different levels of node splitting.\n",
    "   - Larger values help prevent overfitting by requiring a minimum number of samples for a split.\n",
    "\n",
    "### Reasoning Behind the Chosen Hyperparameters:\n",
    "\n",
    "- **n_estimators:** We want to find the optimal number of trees that balances model complexity and performance.\n",
    "- **max_depth:** We aim to find the appropriate tree depth to prevent overfitting while capturing important features.\n",
    "- **min_samples_split:** We want to control the splitting process to prevent overfitting and improve generalization.\n",
    "\n",
    "By conducting Grid Search with these hyperparameters, we aim to find the combination that maximizes model performance while avoiding overfitting. This approach helps optimize the Random Forest Regressor model for predicting concrete strength."
   ]
  },
  {
   "cell_type": "markdown",
   "metadata": {},
   "source": [
    "## 8. Comparative Analysis:\n",
    "In the comparative analysis of the different regression models for concrete strength prediction, we evaluate their performance based on the evaluation metrics obtained. Let's discuss the strengths and limitations of each model in this context:\n",
    "\n",
    "**1. Linear Regression:**\n",
    "   - **Strengths:**\n",
    "       - Simple and easy to interpret.\n",
    "       - Fast training time, especially for large datasets.\n",
    "       - Provides coefficients for each feature, allowing for feature importance analysis.\n",
    "   - **Limitations:**\n",
    "       - Assumes a linear relationship between features and target, which may not hold true in complex real-world scenarios.\n",
    "       - Sensitive to outliers and multicollinearity.\n",
    "       - Limited flexibility in capturing non-linear patterns in the data.\n",
    "   - **Performance:**\n",
    "       - Highest MAE, MSE, and RMSE among the three models, indicating relatively poorer predictive performance.\n",
    "       - Moderate R-squared score, indicating moderate explanatory power of the model.\n",
    "\n",
    "**2. Random Forest Regressor:**\n",
    "   - **Strengths:**\n",
    "       - Handles non-linearity and complex interactions between features well.\n",
    "       - Robust to outliers and noise in the data.\n",
    "       - Less prone to overfitting compared to decision trees.\n",
    "       - Automatically captures feature interactions and importance.\n",
    "   - **Limitations:**\n",
    "       - More complex compared to linear models, making interpretation more challenging.\n",
    "       - May require more computational resources and time for training, especially for large datasets.\n",
    "       - Hyperparameter tuning can be crucial for optimizing performance.\n",
    "   - **Performance:**\n",
    "       - Lowest MAE, MSE, and RMSE among the three models, indicating superior predictive performance.\n",
    "       - Highest R-squared score, indicating better explanatory power of the model.\n",
    "\n",
    "**3. Gradient Boosting Regressor:**\n",
    "   - **Strengths:**\n",
    "       - Builds on the weaknesses of decision trees by sequentially improving the model through boosting.\n",
    "       - Handles non-linearity and complex interactions between features.\n",
    "       - Less prone to overfitting compared to Random Forest due to the sequential nature of boosting.\n",
    "   - **Limitations:**\n",
    "       - More complex compared to linear models and Random Forest, making interpretation more challenging.\n",
    "       - May require more computational resources and time for training, especially for large datasets.\n",
    "       - Hyperparameter tuning can be crucial for optimizing performance.\n",
    "   - **Performance:**\n",
    "       - Performance metrics similar to Random Forest Regressor, with slightly higher MAE, MSE, and RMSE, and slightly lower R-squared score.\n",
    "\n",
    "**Overall Comparison:**\n",
    "- **Random Forest Regressor** outperforms the other models in terms of predictive performance, with the lowest error metrics (MAE, MSE, RMSE) and the highest R-squared score.\n",
    "- **Gradient Boosting Regressor** performs similarly to Random Forest but may require more computational resources and time for training.\n",
    "- **Linear Regression** offers simplicity and interpretability but falls short in capturing the complexity of the relationship between features and the target variable in this context.\n"
   ]
  },
  {
   "cell_type": "markdown",
   "metadata": {},
   "source": [
    "## 9. Conclusion:\n",
    "\n",
    "In this concrete strength prediction project, we aimed to develop regression models to estimate the compressive strength of concrete based on various features. The evaluation of three regression models—Linear Regression, Random Forest Regressor, and Gradient Boosting Regressor—provided insights into their performance, strengths, and limitations.\n",
    "\n",
    "### Findings:\n",
    "\n",
    "1. **Model Performance:**\n",
    "   - **Linear Regression:** Showed moderate performance with higher errors and a moderate R-squared score.\n",
    "   - **Random Forest Regressor:** Demonstrated superior predictive performance, achieving the lowest errors and the highest R-squared score.\n",
    "   - **Gradient Boosting Regressor:** Performed similarly to Random Forest but with slightly higher errors.\n",
    "\n",
    "2. **Strengths and Limitations:**\n",
    "   - **Linear Regression:** Simple and interpretable but limited in capturing complex relationships.\n",
    "   - **Random Forest Regressor:** Robust to non-linearity and outliers, providing excellent predictive accuracy.\n",
    "   - **Gradient Boosting Regressor:** Similar strengths to Random Forest, with a sequential boosting approach.\n",
    "\n",
    "3. **Decision for Application:**\n",
    "   - **Random Forest Regressor:** Recommended for concrete strength prediction due to its superior performance in this context.\n",
    "   - **Gradient Boosting Regressor:** An alternative with similar performance but potentially requiring more computational resources.\n",
    "\n",
    "### Challenges:\n",
    "\n",
    "1. **Data Preprocessing:**\n",
    "   - Handling missing values and outliers required careful consideration and domain knowledge.\n",
    "   - Ensuring feature scaling for models sensitive to scale differences.\n",
    "\n",
    "2. **Model Selection:**\n",
    "   - Deciding on the appropriate regression models involved understanding the trade-offs between simplicity and predictive accuracy.\n",
    "\n",
    "3. **Hyperparameter Tuning:**\n",
    "   - Tuning hyperparameters for Random Forest and Gradient Boosting required computational resources and careful consideration.\n",
    "\n",
    "4. **Interpretability vs. Complexity:**\n",
    "   - Balancing the need for model interpretability with the complexity required for accurate predictions was a challenge, particularly with complex models.\n",
    "\n",
    "5. **Computational Resources:**\n",
    "   - The Random Forest and Gradient Boosting models, while powerful, may demand more computational resources and time for training compared to simpler Linear Regression.\n",
    "\n",
    "In conclusion, the Random Forest Regressor stands out as the recommended model for concrete strength prediction in this project. However, the choice of model should align with specific application requirements, considering factors such as interpretability, computational resources, and the balance between simplicity and accuracy. Overall, this project provides a framework for approaching concrete strength prediction tasks using regression modeling techniques."
   ]
  }
 ],
 "metadata": {
  "kernelspec": {
   "display_name": "Python 3 (ipykernel)",
   "language": "python",
   "name": "python3"
  },
  "language_info": {
   "codemirror_mode": {
    "name": "ipython",
    "version": 3
   },
   "file_extension": ".py",
   "mimetype": "text/x-python",
   "name": "python",
   "nbconvert_exporter": "python",
   "pygments_lexer": "ipython3",
   "version": "3.11.5"
  }
 },
 "nbformat": 4,
 "nbformat_minor": 2
}
